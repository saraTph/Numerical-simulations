{
 "cells": [
  {
   "cell_type": "markdown",
   "id": "81372c79",
   "metadata": {},
   "source": [
    "# GPELab simulation for Rabi coupled spin mixture BEC\n",
    "I simulate the 2D dynamics for a cilindrical shape BEC spin mixture with Rabi coupling. <br>\n",
    "The goal is to fing the ground state for the BEC spin mixture for different detunings of the radio-frequency field and so to evaluate its energy and spin mixture polarization.\n",
    "\n",
    "The GPE is $$i\\hbar\\frac{\\partial \\Psi}{\\partial t} = \\frac{\\delta E}{\\delta \\Psi^*}(\\Psi) = \\left(-\\frac{\\hbar^2}{2m}\\Delta + V(t,x)+(N-1) U_0|\\Psi|^2\\right)\\Psi$$\n",
    "\n",
    "with $U_0 = 4\\pi\\hbar^2 a_s /m$ the interaction strength between 2 particles, and the $(N-1)$ multiplies it because in a BEC with N bosons, each particle interacts with $N−1$ other particles (usually $N \\sim N-1$ is written). \n",
    "\n",
    "The wavefunction is normalized $$\\int |\\Psi(t,x)|dx = 1 $$.\n",
    "\n",
    "The energy functonal is $$E(\\Psi) = \\int \\left[\\frac{\\hbar^2}{2m} |\\nabla\\Psi|^2 + V|\\Psi|^2 + \\frac{NU_0}{2}|\\Psi|^4\\right]dx $$. \n",
    "\n",
    "In that case we can stress how the prefactor $\\frac{NU_0}{2}$ derives from the fact that the interaction energy is given by the sum $E_{int} = \\sum_{i<j} U_{0} \\delta(x_i+x_j)$. Since the number of pairs is $(N-1)/2$, writing the integral we have $$ E_{int} = \\frac{U_0 N}{2}\\int d^3x |\\Psi|^4$$\n",
    "\n",
    "\n",
    "## ADIMENSIONALIZATION of GPE\n",
    "We put $\\hbar=1$ and $m = 1$.<br>\n",
    "The two spin states are coupled by a Radio-frequency magnetic field with frequency $\\Omega$. <br>\n",
    "In 3D the interaction coupling is $g_{3D} = 4\\pi a_s$.\n",
    "Given the trap frequencies $\\omega_r$ and $\\omega_z$ we define the effective 2D interaction coupling constant \n",
    "\n",
    "$$g_{2D} = \\frac{g_{3D}}{\\sqrt{2\\pi}a_z}= [E L^2],$$ \n",
    "\n",
    "where $a_z$ is the BEC characteristic size in the harmonic trap along the z direction. In general \n",
    "\n",
    "$$a_i = \\sqrt{\\frac{\\hbar}{m\\omega_i}}$$.  \n",
    "\n",
    "\n",
    "To adimensionalize the BEC we have to define the characteristic dimensions for the system: time $T$, length $L$ and so the energy $E_0$. <br>\n",
    "I start to take as choises $$T =1/\\Omega; \\quad L = 1/\\sqrt{\\omega_r}; \\quad E_0 = \\Omega$$ \n",
    "In that case the adimensional quantities are \n",
    "$$\\Omega' = 1;\\quad \\omega_r ' = \\omega_r/\\Omega$$\n",
    "\n",
    "$$a_z' = a_z / L = \\sqrt{\\omega_r/\\omega_z}; \\quad a_r' = a_r/L = 1$$\n",
    "\n",
    "$$ g_{2D}' = \\frac{\\frac{2\\sqrt{2\\pi}a_s}{a_z}}{E_0 L^2}= \\frac{g_{2D}}{\\Omega \\omega_r^{-1}}$$\n"
   ]
  },
  {
   "cell_type": "code",
   "execution_count": 1,
   "id": "8cdeb356",
   "metadata": {},
   "outputs": [
    {
     "name": "stdout",
     "output_type": "stream",
     "text": [
      "\n",
      "The adimensional quantities are:\n",
      "\n",
      "W_A   = 1.0; wr_A  = 0.04; wz_A  = 0.004\n",
      "ar_A  = 1.0; az_A  = 3.162277660168379\n",
      "g2D_A = 1.423696134704622e-08\n"
     ]
    }
   ],
   "source": [
    "import numpy as np\n",
    "\n",
    "# Let's try to put some numbers. If for example we have:\n",
    "wr = 200  #Hz\n",
    "wz = 20   #Hz\n",
    "W  = 5000 #Hz\n",
    "ar = 1/np.sqrt(wr)\n",
    "az = 1/np.sqrt(wz)\n",
    "\n",
    "a0 = 52.917721e-11  # m Bohr radius\n",
    "a11 = 30 * a0       # m\n",
    "g3D = 4*np.pi*a11\n",
    "g2D = (2*np.sqrt(2*np.pi)*a11)/az\n",
    "\n",
    "# characteristic quantities are:\n",
    "T = 1/W\n",
    "L = np.sqrt(1/wr)\n",
    "#L = np.sqrt(1/W)\n",
    "E0 = W\n",
    "\n",
    "#the adimensional quantities are:\n",
    "W_A = W*T\n",
    "wr_A = wr/(T**(-1))\n",
    "wz_A = wz/(T**(-1))\n",
    "ar_A = ar/L\n",
    "az_A = az/L\n",
    "g2D_A = g2D/(E0*L**2)\n",
    "\n",
    "print(\"\\nThe adimensional quantities are:\\n\")\n",
    "print(f\"W_A   = {W_A}\" f\"; wr_A  = {wr_A}\" f\"; wz_A  = {wz_A}\")\n",
    "print(f\"ar_A  = {ar_A}\" f\"; az_A  = {az_A}\")\n",
    "print(f\"g2D_A = {g2D_A}\")"
   ]
  },
  {
   "cell_type": "markdown",
   "id": "08afa75b",
   "metadata": {},
   "source": [
    "With those choises for the characteristic lengths so the initial size of the BEC will be unitary, as well the Rabi frequency. The interaction coupling is small, but I believe it is reasonable since interactions in the BEC are usually weak.  \n",
    "g2D_A can become a bit bigger (1e-7) if one takes $L = 1/\\sqrt(\\Omega)$. The problem in having $g_{2D}'$ is very small (or very large) is that numerical instabilities might arise in solving the Gross-Pitaevskii equation.\n",
    "\n",
    "The weak point in taking these definitions for L,T and E0, is that is the if $\\omega_r'$ becomes much smaller than 1, length scales in the simulation might become large, leading to increased computational costs.\n",
    "\n",
    "# GPE adimensional coefficients\n",
    "Given the equation \n",
    "$$i\\hbar \\partial_t \\begin{pmatrix} \\Psi_1 \\\\ \\Psi_2 \\end{pmatrix} = \\left[\n",
    "-\\frac{\\hbar^2}{2m} \\Delta + V_{ext} + \\hbar/2 \\begin{pmatrix} \\delta & -\\Omega \\\\ -\\Omega & -\\delta \\end{pmatrix} +\n",
    "\\begin{pmatrix} g_{11}|\\Psi_1|^2+g_{12}|\\Psi_2|^2 & 0 \\\\ 0 & g_{22}|\\Psi_2|^2+g_{12}|\\Psi_1|^2 \\end{pmatrix}\n",
    "\\begin{pmatrix} \\Psi_1 \\\\ \\Psi_2 \\end{pmatrix}\n",
    "\\right] $$\n",
    "\n",
    "we can write the its adimensional version:\n",
    "$$ i \\partial_t \\begin{pmatrix} \\Psi_1 \\\\ \\Psi_2 \\end{pmatrix} = \\left[\n",
    "-\\alpha \\Delta + V_{ext} +\n",
    "1/2 \\begin{pmatrix} \\delta T & -\\Omega T \\\\ -\\Omega T & -\\delta T \\end{pmatrix} +\n",
    "\\beta \\begin{pmatrix} \\gamma_{11}|\\Psi_1|^2+\\gamma_{12}|\\Psi_2|^2 & 0 \\\\ 0 & \\gamma_{22}|\\Psi_2|^2+\\gamma_{12}|\\Psi_1|^2 \\end{pmatrix}\n",
    "\\begin{pmatrix} \\Psi_1 \\\\ \\Psi_2 \\end{pmatrix}\n",
    "\\right] $$\n",
    "\n",
    "where\n",
    "$$\\alpha = \\frac{1}{2} \\frac{\\hbar}{m} \\frac{T}{L^2} \\rightarrow  \\frac{1}{2} \\frac{T}{L^2} $$\n",
    "\n",
    "$$\\beta =  \\frac{N T}{\\hbar L^3} \\rightarrow \\frac{N T}{L^3}; \\quad \\gamma_i = \\frac{4\\pi\\hbar^2 a_s}{m}\\rightarrow 4\\pi a_s $$\n",
    "\n",
    "and of course also $\\Psi$ is normalized to 1.\n",
    "\n",
    "Since we will simulate in a 2D domine, the $\\gamma_i$ has to be rescaled properly."
   ]
  },
  {
   "cell_type": "code",
   "execution_count": 15,
   "id": "433ac615",
   "metadata": {},
   "outputs": [
    {
     "name": "stdout",
     "output_type": "stream",
     "text": [
      "\n",
      "The adimensional GPE coefficients are:\n",
      "\n",
      "alpha   = 0.02\n",
      "beta   = 56568.5424949238\n",
      "gamma_11  = 1.994951082459772e-07; gamma_22  = 5.319869553226059e-07; gamma_12  = -1.3299673883065147e-07\n"
     ]
    }
   ],
   "source": [
    "# with our characteristic lengths:\n",
    "a11 = 30*a0\n",
    "a22 = 80*a0\n",
    "a12 = -20*a0\n",
    "\n",
    "N = 100e3\n",
    "\n",
    "alpha = 0.5*(T/L**2)\n",
    "beta = N*T/(L**3)\n",
    "gamma_11 = 4*np.pi*a11\n",
    "gamma_22 = 4*np.pi*a22\n",
    "gamma_12 = 4*np.pi*a12\n",
    "\n",
    "print(\"\\nThe adimensional GPE coefficients are:\\n\")\n",
    "print(f\"alpha   = {alpha}\")\n",
    "print(f\"beta   = {beta}\")\n",
    "print(f\"gamma_11  = {gamma_11}\" f\"; gamma_22  = {gamma_22}\" f\"; gamma_12  = {gamma_12}\")\n"
   ]
  },
  {
   "cell_type": "code",
   "execution_count": 3,
   "id": "5b138e14",
   "metadata": {},
   "outputs": [
    {
     "name": "stdout",
     "output_type": "stream",
     "text": [
      "\n",
      "The adimensional GPE coefficients are:\n",
      "\n",
      "alpha   = 0.02\n",
      "gamma_11  = 1.423696134704622e-08; gamma_22  = 3.7965230258789917e-08; gamma_12  = -9.491307564697479e-09\n"
     ]
    }
   ],
   "source": [
    "# with our characteristic lengths:\n",
    "a11 = 30*a0\n",
    "a22 = 80*a0\n",
    "a12 = -20*a0\n",
    "\n",
    "g2D_11 = (2*np.sqrt(2*np.pi)*a11)/az\n",
    "g2D_22 = (2*np.sqrt(2*np.pi)*a22)/az\n",
    "g2D_12 = (2*np.sqrt(2*np.pi)*a12)/az\n",
    "\n",
    "alpha = 0.5*(T/L**2)\n",
    "beta = 1\n",
    "gamma_11 = g2D_11/(E0*L**2)\n",
    "gamma_22 = g2D_22/(E0*L**2)\n",
    "gamma_12 = g2D_12/(E0*L**2)\n",
    "\n",
    "print(\"\\nThe adimensional GPE coefficients are:\\n\")\n",
    "print(f\"alpha   = {alpha}\")\n",
    "print(f\"gamma_11  = {gamma_11}\" f\"; gamma_22  = {gamma_22}\" f\"; gamma_12  = {gamma_12}\")"
   ]
  },
  {
   "cell_type": "markdown",
   "id": "ff976d05",
   "metadata": {},
   "source": [
    "## Ground state solution\n",
    "### Initial guess for $\\Psi$\n",
    "\n",
    "I define the wavefunction $\\Psi$ to use as initial guess like $$  $$"
   ]
  },
  {
   "cell_type": "markdown",
   "id": "d43a6e09",
   "metadata": {},
   "source": [
    "## How to test the code\n",
    "\n",
    "- I can do the first tests in looking at the spin composition as a function of density\n",
    "- Once the simulation gives me a solution I can calculate the energy \n",
    "$$\\langle{\\Psi}|H|{\\Psi}\\rangle = \\langle{\\Psi}| \\left(H_{\\Omega} + \\mu/2 + E_{kin} + E_{trap}\\right)|\\Psi\\rangle$$\n",
    "\n",
    "Without interactions (super dilute) the energy of the ground state is known $E_0 = -\\frac{\\Omega}{2}\\sqrt{1+\\delta^2/\\Omega^2} + \\hbar \\Omega$ \n",
    "\n",
    "- Then one may calculate the difference in energy $\\Delta E = 1/2 mv^2 $, and I will integrate $$\\int \\Delta E n_{1D} dz$$\n",
    "\n",
    "## To think about:\n",
    "- another way to rescale the g is simbìply to consider the 1D density instead of the n 3D $n_{3D} = n_{1D} |\\Psi|^2$\n",
    " so if it is not gaussian my wavefunction I rescale the g by the density 1D. Another way to think abour it is that we replace $g_{--} \\rightarrow g_{--}n$ "
   ]
  },
  {
   "cell_type": "code",
   "execution_count": null,
   "id": "ee991ac7",
   "metadata": {},
   "outputs": [],
   "source": []
  }
 ],
 "metadata": {
  "kernelspec": {
   "display_name": "Python 3 (ipykernel)",
   "language": "python",
   "name": "python3"
  },
  "language_info": {
   "codemirror_mode": {
    "name": "ipython",
    "version": 3
   },
   "file_extension": ".py",
   "mimetype": "text/x-python",
   "name": "python",
   "nbconvert_exporter": "python",
   "pygments_lexer": "ipython3",
   "version": "3.9.13"
  }
 },
 "nbformat": 4,
 "nbformat_minor": 5
}
