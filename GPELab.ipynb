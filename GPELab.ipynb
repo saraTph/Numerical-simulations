{
 "cells": [
  {
   "cell_type": "markdown",
   "id": "81372c79",
   "metadata": {},
   "source": [
    "# GPELab simulation for Rabi coupled spin mixture BEC\n",
    "I simulate the 2D dynamics for a cilindrical shape BEC spin mixture with Rabi coupling. <br>\n",
    "The goal is to simulate the dynamics of the cloud during the adiabatic sweep of the detuning.\n",
    "\n",
    "\n",
    "## ADIMENSIONALIZATION of GPE\n",
    "We put $\\hbar=1$ and $m = 1$.<br>\n",
    "The two spin states are coupled by a Radio-frequency magnetic field with frequency $\\Omega$. <br>\n",
    "In 3D the interaction coupling is $g_{3D} = 4\\pi a_s$.\n",
    "Given the trap frequencies $\\omega_r$ and $\\omega_z$ we define the effective 2D interaction coupling constant \n",
    "\n",
    "$$g_{2D} = \\frac{g_{3D}}{\\sqrt{2\\pi}a_z}= [E L^2],$$ \n",
    "\n",
    "where $a_z$ is the BEC characteristic size in the harmonic trap along the z direction. In general \n",
    "\n",
    "$$a_i = \\sqrt{\\frac{\\hbar}{m\\omega_i}}$$.  \n",
    "\n",
    "\n",
    "To adimensionalize the BEC we have to define the characteristic dimensions for the system: time $T$, length $L$ and so the energy $E_0$. <br>\n",
    "I start to take as choises $$T =1/\\Omega; \\quad L = 1/\\sqrt{\\omega_r}; \\quad E_0 = \\Omega$$ \n",
    "In that case the adimensional quantities are \n",
    "$$\\Omega' = 1;\\quad \\omega_r ' = \\omega_r/\\Omega$$\n",
    "\n",
    "$$a_z' = a_z / L = \\sqrt{\\omega_r/\\omega_z}; \\quad a_r' = a_r/L = 1$$\n",
    "\n",
    "$$ g_{2D}' = \\frac{\\frac{2\\sqrt{2\\pi}a_s}{a_z}}{E_0 L^2}= \\frac{g_{2D}}{\\Omega \\omega_r^{-1}}$$\n"
   ]
  },
  {
   "cell_type": "code",
   "execution_count": 15,
   "id": "8cdeb356",
   "metadata": {},
   "outputs": [
    {
     "name": "stdout",
     "output_type": "stream",
     "text": [
      "\n",
      "The adimensional quantities are:\n",
      "\n",
      "W_A   = 1.0; wr_A  = 0.04; wz_A  = 0.004\n",
      "ar_A  = 1.0; az_A  = 3.162277660168379\n",
      "g2D_A = 2.3728268911743695e-08\n"
     ]
    }
   ],
   "source": [
    "import numpy as np\n",
    "\n",
    "# Let's try to put some numbers. If for example we have:\n",
    "wr = 200  #Hz\n",
    "wz = 20   #Hz\n",
    "W  = 5000 #Hz\n",
    "ar = 1/np.sqrt(wr)\n",
    "az = 1/np.sqrt(wz)\n",
    "\n",
    "a0 = 52.917721e-11  # m Bohr radius\n",
    "a11 = 30 * a0       # m\n",
    "g3D = 4*np.pi*a11\n",
    "g2D = (2*np.sqrt(2*np.pi)*a11)/az\n",
    "\n",
    "# characteristic quantities are:\n",
    "T = 1/W\n",
    "L = np.sqrt(1/wr)\n",
    "#L = np.sqrt(1/W)\n",
    "E0 = W\n",
    "\n",
    "#the adimensional quantities are:\n",
    "W_A = W*T\n",
    "wr_A = wr/(T**(-1))\n",
    "wz_A = wz/(T**(-1))\n",
    "ar_A = ar/L\n",
    "az_A = az/L\n",
    "g2D_A = g2D/(E0*L**2)\n",
    "\n",
    "print(\"\\nThe adimensional quantities are:\\n\")\n",
    "print(f\"W_A   = {W_A}\" f\"; wr_A  = {wr_A}\" f\"; wz_A  = {wz_A}\")\n",
    "print(f\"ar_A  = {ar_A}\" f\"; az_A  = {az_A}\")\n",
    "print(f\"g2D_A = {g2D_A}\")"
   ]
  },
  {
   "cell_type": "markdown",
   "id": "08afa75b",
   "metadata": {},
   "source": [
    "With those choises for the characteristic lengths so the initial size of the BEC will be unitary, as well the Rabi frequency. The interaction coupling is small, but I believe it is reasonable since interactions in the BEC are usually weak.  \n",
    "g2D_A can become a bit bigger (1e-7) if one takes $L = 1/\\sqrt(\\Omega)$. The problem in having $g_{2D}'$ is very small (or very large) is that numerical instabilities might arise in solving the Gross-Pitaevskii equation.\n",
    "\n",
    "The weak point in taking these definitions for L,T and E0, is that is the if $\\omega_r'$ becomes much smaller than 1, length scales in the simulation might become large, leading to increased computational costs.\n",
    "\n",
    "# GPE adimensional coefficients\n",
    "Given the equation \n",
    "$$i\\hbar \\partial_t \\begin{pmatrix} \\Psi_1 \\\\ \\Psi_2 \\end{pmatrix} = \\left[\n",
    "-\\frac{\\hbar^2}{2m} \\Delta + V_{ext} + \\hbar/2 \\begin{pmatrix} \\delta & -\\Omega \\\\ -\\Omega & -\\delta \\end{pmatrix} +\n",
    "\\begin{pmatrix} g_{11}|\\Psi_1|^2+g_{12}|\\Psi_2|^2 & 0 \\\\ 0 & g_{22}|\\Psi_2|^2+g_{12}|\\Psi_1|^2 \\end{pmatrix}\n",
    "\\begin{pmatrix} \\Psi_1 \\\\ \\Psi_2 \\end{pmatrix}\n",
    "\\right] $$\n",
    "\n",
    "we can write the its adimensional version:\n",
    "$$ i \\partial_t \\begin{pmatrix} \\Psi_1 \\\\ \\Psi_2 \\end{pmatrix} = \\left[\n",
    "-\\alpha \\Delta + V_{ext} +\n",
    "1/2 \\begin{pmatrix} \\delta T & -\\Omega T \\\\ -\\Omega T & -\\delta T \\end{pmatrix} +\n",
    "\\beta \\begin{pmatrix} \\gamma_{11}|\\Psi_1|^2+\\gamma_{12}|\\Psi_2|^2 & 0 \\\\ 0 & \\gamma_{22}|\\Psi_2|^2+\\gamma_{12}|\\Psi_1|^2 \\end{pmatrix}\n",
    "\\begin{pmatrix} \\Psi_1 \\\\ \\Psi_2 \\end{pmatrix}\n",
    "\\right] $$\n",
    "\n",
    "where\n",
    "$$\\alpha = \\frac{1}{2} \\frac{\\hbar}{m} \\frac{T}{L^2} \\rightarrow  \\frac{1}{2} \\frac{T}{L^2} $$\n",
    "\n",
    "$$\\beta =  1; \\quad \\gamma_i = {g_{2D}}_i'$$\n",
    "\n",
    "and of course also $\\Psi$ is normalized."
   ]
  },
  {
   "cell_type": "code",
   "execution_count": 17,
   "id": "433ac615",
   "metadata": {},
   "outputs": [
    {
     "name": "stdout",
     "output_type": "stream",
     "text": [
      "\n",
      "The adimensional GPE coefficients are:\n",
      "\n",
      "alpha   = 0.02\n",
      "gamma_11  = 1.423696134704622e-08; gamma_22  = 3.7965230258789917e-08; gamma_12  = -9.491307564697479e-09\n"
     ]
    }
   ],
   "source": [
    "# with our characteristic lengths:\n",
    "a11 = 30*a0\n",
    "a22 = 80*a0\n",
    "a12 = -20*a0\n",
    "\n",
    "g2D_11 = (2*np.sqrt(2*np.pi)*a11)/az\n",
    "g2D_22 = (2*np.sqrt(2*np.pi)*a22)/az\n",
    "g2D_12 = (2*np.sqrt(2*np.pi)*a12)/az\n",
    "\n",
    "alpha = 0.5*(T/L**2)\n",
    "beta = 1\n",
    "gamma_11 = g2D_11/(E0*L**2)\n",
    "gamma_22 = g2D_22/(E0*L**2)\n",
    "gamma_12 = g2D_12/(E0*L**2)\n",
    "\n",
    "print(\"\\nThe adimensional GPE coefficients are:\\n\")\n",
    "print(f\"alpha   = {alpha}\")\n",
    "print(f\"gamma_11  = {gamma_11}\" f\"; gamma_22  = {gamma_22}\" f\"; gamma_12  = {gamma_12}\")"
   ]
  },
  {
   "cell_type": "markdown",
   "id": "ff976d05",
   "metadata": {},
   "source": [
    "## Ground state solution\n",
    "### Initial guess for $\\Psi$\n",
    "\n",
    "I define the wavefunction $\\Psi$ to use as initial guess like:\n"
   ]
  },
  {
   "cell_type": "code",
   "execution_count": null,
   "id": "2e0796e1",
   "metadata": {},
   "outputs": [],
   "source": []
  }
 ],
 "metadata": {
  "kernelspec": {
   "display_name": "Python 3 (ipykernel)",
   "language": "python",
   "name": "python3"
  },
  "language_info": {
   "codemirror_mode": {
    "name": "ipython",
    "version": 3
   },
   "file_extension": ".py",
   "mimetype": "text/x-python",
   "name": "python",
   "nbconvert_exporter": "python",
   "pygments_lexer": "ipython3",
   "version": "3.9.7"
  }
 },
 "nbformat": 4,
 "nbformat_minor": 5
}
